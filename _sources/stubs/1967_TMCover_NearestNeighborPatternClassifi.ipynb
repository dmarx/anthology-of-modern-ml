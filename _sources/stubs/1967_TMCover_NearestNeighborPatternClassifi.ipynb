{
 "cells": [
  {
   "cell_type": "markdown",
   "id": "d135cad5",
   "metadata": {},
   "source": [
    "# \"Nearest Neighbor Pattern Classification\"\n",
    "\n",
    "http://ssg.mit.edu/cal/abs/2000_spring/np_dens/classification/cover67.pdf"
   ]
  }
 ],
 "metadata": {
  "jupytext": {
   "formats": "md:myst",
   "text_representation": {
    "extension": ".md",
    "format_name": "myst"
   }
  },
  "kernelspec": {
   "display_name": "Python 3",
   "language": "python",
   "name": "python3"
  },
  "language_info": {
   "codemirror_mode": {
    "name": "ipython",
    "version": 3
   },
   "file_extension": ".py",
   "mimetype": "text/x-python",
   "name": "python",
   "nbconvert_exporter": "python",
   "pygments_lexer": "ipython3",
   "version": "3.8.13"
  },
  "source_map": [
   11
  ]
 },
 "nbformat": 4,
 "nbformat_minor": 5
}