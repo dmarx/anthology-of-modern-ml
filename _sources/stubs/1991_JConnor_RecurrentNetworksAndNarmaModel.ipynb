{
 "cells": [
  {
   "cell_type": "markdown",
   "id": "f2227acd",
   "metadata": {},
   "source": [
    "# \"Recurrent Networks and NARMA Modeling\"\n",
    "\n",
    "https://proceedings.neurips.cc/paper/1991/file/5ef0b4eba35ab2d6180b0bca7e46b6f9-Paper.pdf"
   ]
  }
 ],
 "metadata": {
  "jupytext": {
   "formats": "md:myst",
   "text_representation": {
    "extension": ".md",
    "format_name": "myst"
   }
  },
  "kernelspec": {
   "display_name": "Python 3",
   "language": "python",
   "name": "python3"
  },
  "language_info": {
   "codemirror_mode": {
    "name": "ipython",
    "version": 3
   },
   "file_extension": ".py",
   "mimetype": "text/x-python",
   "name": "python",
   "nbconvert_exporter": "python",
   "pygments_lexer": "ipython3",
   "version": "3.8.13"
  },
  "source_map": [
   11
  ]
 },
 "nbformat": 4,
 "nbformat_minor": 5
}