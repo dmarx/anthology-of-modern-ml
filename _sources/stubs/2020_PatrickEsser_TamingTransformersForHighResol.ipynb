{
 "cells": [
  {
   "cell_type": "markdown",
   "id": "544e04db",
   "metadata": {},
   "source": [
    "# \"Taming Transformers for High-Resolution Image Synthesis\"\n",
    "\n",
    "https://arxiv.org/abs/2012.09841"
   ]
  }
 ],
 "metadata": {
  "jupytext": {
   "formats": "md:myst",
   "text_representation": {
    "extension": ".md",
    "format_name": "myst"
   }
  },
  "kernelspec": {
   "display_name": "Python 3",
   "language": "python",
   "name": "python3"
  },
  "language_info": {
   "codemirror_mode": {
    "name": "ipython",
    "version": 3
   },
   "file_extension": ".py",
   "mimetype": "text/x-python",
   "name": "python",
   "nbconvert_exporter": "python",
   "pygments_lexer": "ipython3",
   "version": "3.8.12"
  },
  "source_map": [
   11
  ]
 },
 "nbformat": 4,
 "nbformat_minor": 5
}