{
 "cells": [
  {
   "cell_type": "markdown",
   "id": "759c0e32",
   "metadata": {},
   "source": [
    "# \"Reconciling modern machine-learning practice and the classical bias–variance trade-off\"\n",
    "\n",
    "https://www.pnas.org/doi/10.1073/pnas.1903070116"
   ]
  }
 ],
 "metadata": {
  "jupytext": {
   "formats": "md:myst",
   "text_representation": {
    "extension": ".md",
    "format_name": "myst"
   }
  },
  "kernelspec": {
   "display_name": "Python 3",
   "language": "python",
   "name": "python3"
  },
  "language_info": {
   "codemirror_mode": {
    "name": "ipython",
    "version": 3
   },
   "file_extension": ".py",
   "mimetype": "text/x-python",
   "name": "python",
   "nbconvert_exporter": "python",
   "pygments_lexer": "ipython3",
   "version": "3.8.14"
  },
  "source_map": [
   11
  ]
 },
 "nbformat": 4,
 "nbformat_minor": 5
}