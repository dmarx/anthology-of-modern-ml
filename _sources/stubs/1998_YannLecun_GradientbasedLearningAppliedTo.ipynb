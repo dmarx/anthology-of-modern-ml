{
 "cells": [
  {
   "cell_type": "markdown",
   "id": "fcb8558e",
   "metadata": {},
   "source": [
    "# \"GradientBased Learning Applied to Document Recognition\"\n",
    "\n",
    "http://vision.stanford.edu/cs598_spring07/papers/Lecun98.pdf"
   ]
  }
 ],
 "metadata": {
  "jupytext": {
   "formats": "md:myst",
   "text_representation": {
    "extension": ".md",
    "format_name": "myst"
   }
  },
  "kernelspec": {
   "display_name": "Python 3",
   "language": "python",
   "name": "python3"
  },
  "language_info": {
   "codemirror_mode": {
    "name": "ipython",
    "version": 3
   },
   "file_extension": ".py",
   "mimetype": "text/x-python",
   "name": "python",
   "nbconvert_exporter": "python",
   "pygments_lexer": "ipython3",
   "version": "3.8.12"
  },
  "source_map": [
   11
  ]
 },
 "nbformat": 4,
 "nbformat_minor": 5
}