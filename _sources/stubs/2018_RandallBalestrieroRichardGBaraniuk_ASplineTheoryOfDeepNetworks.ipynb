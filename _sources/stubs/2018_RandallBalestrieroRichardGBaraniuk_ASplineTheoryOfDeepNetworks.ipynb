{
 "cells": [
  {
   "cell_type": "markdown",
   "id": "b58beeaf",
   "metadata": {},
   "source": [
    "# A Spline Theory of Deep Networks\n",
    "\n",
    "https://proceedings.mlr.press/v80/balestriero18b/balestriero18b.pdf"
   ]
  }
 ],
 "metadata": {
  "jupytext": {
   "formats": "md:myst",
   "text_representation": {
    "extension": ".md",
    "format_name": "myst"
   }
  },
  "kernelspec": {
   "display_name": "Python 3",
   "language": "python",
   "name": "python3"
  },
  "language_info": {
   "codemirror_mode": {
    "name": "ipython",
    "version": 3
   },
   "file_extension": ".py",
   "mimetype": "text/x-python",
   "name": "python",
   "nbconvert_exporter": "python",
   "pygments_lexer": "ipython3",
   "version": "3.8.13"
  },
  "source_map": [
   11
  ]
 },
 "nbformat": 4,
 "nbformat_minor": 5
}