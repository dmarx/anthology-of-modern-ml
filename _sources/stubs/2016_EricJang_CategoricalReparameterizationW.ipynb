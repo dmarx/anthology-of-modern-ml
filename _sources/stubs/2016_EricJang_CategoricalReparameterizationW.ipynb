{
 "cells": [
  {
   "cell_type": "markdown",
   "id": "a1d6e3f3",
   "metadata": {},
   "source": [
    "# \"Categorical Reparameterization with Gumbel-Softmax\"\n",
    "\n",
    "https://arxiv.org/abs/1611.01144v5"
   ]
  }
 ],
 "metadata": {
  "jupytext": {
   "formats": "md:myst",
   "text_representation": {
    "extension": ".md",
    "format_name": "myst"
   }
  },
  "kernelspec": {
   "display_name": "Python 3",
   "language": "python",
   "name": "python3"
  },
  "language_info": {
   "codemirror_mode": {
    "name": "ipython",
    "version": 3
   },
   "file_extension": ".py",
   "mimetype": "text/x-python",
   "name": "python",
   "nbconvert_exporter": "python",
   "pygments_lexer": "ipython3",
   "version": "3.8.13"
  },
  "source_map": [
   11
  ]
 },
 "nbformat": 4,
 "nbformat_minor": 5
}