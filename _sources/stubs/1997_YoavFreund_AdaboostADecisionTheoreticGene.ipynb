{
 "cells": [
  {
   "cell_type": "markdown",
   "id": "fcc4a9cf",
   "metadata": {},
   "source": [
    "# AdaBoost) [\"A Decision-Theoretic Generalization of On-Line Learning and an Application to Boosting\"\n",
    "\n",
    "https://www.sciencedirect.com/science/article/pii/S002200009791504X"
   ]
  }
 ],
 "metadata": {
  "jupytext": {
   "formats": "md:myst",
   "text_representation": {
    "extension": ".md",
    "format_name": "myst"
   }
  },
  "kernelspec": {
   "display_name": "Python 3",
   "language": "python",
   "name": "python3"
  },
  "language_info": {
   "codemirror_mode": {
    "name": "ipython",
    "version": 3
   },
   "file_extension": ".py",
   "mimetype": "text/x-python",
   "name": "python",
   "nbconvert_exporter": "python",
   "pygments_lexer": "ipython3",
   "version": "3.8.12"
  },
  "source_map": [
   11
  ]
 },
 "nbformat": 4,
 "nbformat_minor": 5
}