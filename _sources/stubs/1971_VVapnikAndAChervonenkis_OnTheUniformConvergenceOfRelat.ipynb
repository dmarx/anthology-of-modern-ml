{
 "cells": [
  {
   "cell_type": "markdown",
   "id": "90c84a63",
   "metadata": {},
   "source": [
    "# \"On the uniform convergence of relative frequencies of events to their probabilities\"\n",
    "\n",
    "https://courses.engr.illinois.edu/ece544na/fa2014/vapnik71.pdf"
   ]
  }
 ],
 "metadata": {
  "jupytext": {
   "formats": "md:myst",
   "text_representation": {
    "extension": ".md",
    "format_name": "myst"
   }
  },
  "kernelspec": {
   "display_name": "Python 3",
   "language": "python",
   "name": "python3"
  },
  "language_info": {
   "codemirror_mode": {
    "name": "ipython",
    "version": 3
   },
   "file_extension": ".py",
   "mimetype": "text/x-python",
   "name": "python",
   "nbconvert_exporter": "python",
   "pygments_lexer": "ipython3",
   "version": "3.8.12"
  },
  "source_map": [
   11
  ]
 },
 "nbformat": 4,
 "nbformat_minor": 5
}