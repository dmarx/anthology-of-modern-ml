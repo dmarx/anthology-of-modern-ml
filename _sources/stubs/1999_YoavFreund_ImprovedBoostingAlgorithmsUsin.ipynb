{
 "cells": [
  {
   "cell_type": "markdown",
   "id": "6a9b9190",
   "metadata": {},
   "source": [
    "# \"Improved Boosting Algorithms Using Confidence-rated Predictions\"\n",
    "\n",
    "https://sci2s.ugr.es/keel/pdf/algorithm/articulo/1999-ML-Improved%20boosting%20algorithms%20using%20confidence-rated%20predictions%20(Schapire%20y%20Singer\\\\).pdf"
   ]
  }
 ],
 "metadata": {
  "jupytext": {
   "formats": "md:myst",
   "text_representation": {
    "extension": ".md",
    "format_name": "myst"
   }
  },
  "kernelspec": {
   "display_name": "Python 3",
   "language": "python",
   "name": "python3"
  },
  "language_info": {
   "codemirror_mode": {
    "name": "ipython",
    "version": 3
   },
   "file_extension": ".py",
   "mimetype": "text/x-python",
   "name": "python",
   "nbconvert_exporter": "python",
   "pygments_lexer": "ipython3",
   "version": "3.8.12"
  },
  "source_map": [
   11
  ]
 },
 "nbformat": 4,
 "nbformat_minor": 5
}