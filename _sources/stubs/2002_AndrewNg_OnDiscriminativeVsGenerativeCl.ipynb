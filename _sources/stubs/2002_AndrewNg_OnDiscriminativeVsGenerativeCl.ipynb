{
 "cells": [
  {
   "cell_type": "markdown",
   "id": "537e2b6b",
   "metadata": {},
   "source": [
    "# \"On Discriminative vs. Generative classifiers: A comparison of logistic regression and naive Bayes\n",
    "\n",
    "https://proceedings.neurips.cc/paper/2001/file/7b7a53e239400a13bd6be6c91c4f6c4e-Paper.pdf"
   ]
  }
 ],
 "metadata": {
  "jupytext": {
   "formats": "md:myst",
   "text_representation": {
    "extension": ".md",
    "format_name": "myst"
   }
  },
  "kernelspec": {
   "display_name": "Python 3",
   "language": "python",
   "name": "python3"
  },
  "language_info": {
   "codemirror_mode": {
    "name": "ipython",
    "version": 3
   },
   "file_extension": ".py",
   "mimetype": "text/x-python",
   "name": "python",
   "nbconvert_exporter": "python",
   "pygments_lexer": "ipython3",
   "version": "3.8.12"
  },
  "source_map": [
   11
  ]
 },
 "nbformat": 4,
 "nbformat_minor": 5
}