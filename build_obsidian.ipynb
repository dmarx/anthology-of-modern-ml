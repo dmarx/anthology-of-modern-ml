{
 "cells": [
  {
   "cell_type": "code",
   "execution_count": 1,
   "id": "997e12ad-0fec-4973-aac4-849ec5cee31e",
   "metadata": {},
   "outputs": [
    {
     "data": {
      "text/plain": [
       "True"
      ]
     },
     "execution_count": 1,
     "metadata": {},
     "output_type": "execute_result"
    }
   ],
   "source": [
    "from pathlib import Path\n",
    "\n",
    "root = Path(\"obsidian_annotations\")\n",
    "\n",
    "root.exists()"
   ]
  },
  {
   "cell_type": "code",
   "execution_count": null,
   "id": "b83cbb75-d332-40f0-b35b-3736e31c7d27",
   "metadata": {},
   "outputs": [],
   "source": [
    "from loguru import logger\n",
    "from collections import defaultdict\n",
    "from unidecode import unidecode\n",
    "import string\n",
    "from pathlib import Path\n",
    "\n",
    "from readme2book import ReadmeParser #, Stub\n",
    "\n",
    "class ObsidianStub:\n",
    "    def __init__(self, item):\n",
    "        \n",
    "    \n",
    "\n",
    "if True:\n",
    "    parser = ReadmeParser()\n",
    "    stub_path='anthology_of_modern_ml/stubs'\n",
    "    for entry in parser.entries:\n",
    "        if 'subheadings' not in entry:\n",
    "            continue\n",
    "        for subheading, items in entry['subheadings'].items():\n",
    "            logger.debug(f'subheading: {subheading}')\n",
    "            for item in items:\n",
    "                logger.debug(f'item:\\n {item}')\n",
    "                stub = Stub(item)\n",
    "                try:\n",
    "                    stub.write(stub_path)\n",
    "                except Exception as e:\n",
    "                    logger.warning(e)"
   ]
  },
  {
   "cell_type": "code",
   "execution_count": 4,
   "id": "6d4b5e02-cc3b-4ad0-8db4-7e57f1ef40ca",
   "metadata": {},
   "outputs": [],
   "source": [
    "import json\n",
    "\n",
    "with open(\"db.json\", 'r') as f:\n",
    "    db=json.load(f)"
   ]
  },
  {
   "cell_type": "code",
   "execution_count": null,
   "id": "2c5c3fa8-3e01-489a-98b4-15291446e6e7",
   "metadata": {},
   "outputs": [],
   "source": [
    "def fix_arxiv_abs2pdf(url):\n",
    "    if 'arxiv' in url:\n",
    "        if 'abs' in url:\n",
    "            url = url.replace('abs','pdf') + \".pdf\"\n",
    "    return url\n",
    "\n"
   ]
  },
  {
   "cell_type": "code",
   "execution_count": 5,
   "id": "fcf692c5-68de-40b5-b2ad-fd38f9afcb44",
   "metadata": {},
   "outputs": [
    {
     "data": {
      "text/plain": [
       "dict_keys(['docs', 'authors', 'tags', 'years', 'errors'])"
      ]
     },
     "execution_count": 5,
     "metadata": {},
     "output_type": "execute_result"
    }
   ],
   "source": [
    "db.keys()"
   ]
  },
  {
   "cell_type": "code",
   "execution_count": 6,
   "id": "6b1157d9-499d-424f-856d-9138969d9fc3",
   "metadata": {},
   "outputs": [],
   "source": [
    "import yaml"
   ]
  },
  {
   "cell_type": "code",
   "execution_count": 12,
   "id": "59b8721d-083a-4caf-87dc-75b803ecfac3",
   "metadata": {},
   "outputs": [
    {
     "name": "stdout",
     "output_type": "stream",
     "text": [
      "1996_RobertTibshirani_RegressionShrinkageAndSelectio\n",
      "\n",
      "authors:\n",
      "- Robert Tibshirani\n",
      "is_pdf: 'True'\n",
      "stub_name: 1996_RobertTibshirani_RegressionShrinkageAndSelectio\n",
      "tags:\n",
      "- '\"Classic\" ML'\n",
      "- Lasso/elasticnet\n",
      "title_part: '\"Regression Shrinkage and Selection via the Lasso\"'\n",
      "url: https://statweb.stanford.edu/~tibs/lasso/lasso.pdf\n",
      "year: 1996\n",
      "\n"
     ]
    }
   ],
   "source": [
    "k, d = list(db['docs'].items())[0]\n",
    "print(k)\n",
    "print()\n",
    "print(yaml.dump(d))"
   ]
  },
  {
   "cell_type": "code",
   "execution_count": 33,
   "id": "a07d04d7-b39b-46f6-93a1-88e438365001",
   "metadata": {},
   "outputs": [
    {
     "data": {
      "text/plain": [
       "False"
      ]
     },
     "execution_count": 33,
     "metadata": {},
     "output_type": "execute_result"
    }
   ],
   "source": [
    "p = root / f\"{d['stub_name']}.pdf\" \n",
    "p.exists()"
   ]
  },
  {
   "cell_type": "code",
   "execution_count": 39,
   "id": "f4bac1da-d9d0-4b57-9386-ca94d2433351",
   "metadata": {},
   "outputs": [],
   "source": [
    "def fix_arxiv_abs2pdf(url):\n",
    "    if 'arxiv' in url:\n",
    "        if 'abs' in url:\n",
    "            url = url.replace('abs','pdf') + \".pdf\"\n",
    "    return url\n",
    "\n",
    "# convert arxiv ABS URLs to PDF\n",
    "for k,d in db['docs'].items():\n",
    "    if not d.get('is_pdf'):\n",
    "        d['url'] = fix_arxiv_abs2pdf(d['url'])\n",
    "        if d['url'].endswith('pdf'):\n",
    "            d['is_pdf'] = True\n",
    "\n",
    "    if d.get('is_pdf'):\n",
    "        d['annotation-target']= d['url']\n",
    "        content = f\"\"\"\n",
    "---\n",
    "{yaml.dump(d).strip()}\n",
    "---\n",
    "# {d['title_part']}\n",
    "\"\"\".strip()\n",
    "\n",
    "        fname = root / f\"{d['stub_name']}.md\" \n",
    "        with fname.open('w') as f:\n",
    "            f.write(content)\n",
    "        \n",
    "\n",
    "# to do: title sanitization?"
   ]
  },
  {
   "cell_type": "code",
   "execution_count": 28,
   "id": "1988019a-3cc4-4419-981f-fc45e0c27c8e",
   "metadata": {},
   "outputs": [
    {
     "name": "stdout",
     "output_type": "stream",
     "text": [
      "---\n",
      "authors:\n",
      "- Jonathan Ho\n",
      "- Tim Salimans\n",
      "stub_name: 2021_JonathanHo_ClassifierFreeDiffusionGuidanc\n",
      "tags:\n",
      "- Misc important papers for generative models/art, misc modern era\n",
      "- Classifier-free Guidance (CFG)\n",
      "title_part: Classifier-Free Diffusion Guidance\n",
      "url: https://openreview.net/forum?id=qw8AKxfYbI\n",
      "year: 2021\n",
      "---\n",
      "# Classifier-Free Diffusion Guidance\n"
     ]
    }
   ],
   "source": [
    "\n",
    "\n",
    "print(content) # {d['stub_name']}"
   ]
  },
  {
   "cell_type": "code",
   "execution_count": 40,
   "id": "f279ecd5-783c-4bd2-9e1b-cc0a1c3ce23a",
   "metadata": {},
   "outputs": [
    {
     "name": "stdout",
     "output_type": "stream",
     "text": [
      "On branch main\n",
      "Your branch is up to date with 'origin/main'.\n",
      "\n",
      "Untracked files:\n",
      "  (use \"git add <file>...\" to include in what will be committed)\n",
      "\t\u001b[31m.ipynb_checkpoints/\u001b[m\n",
      "\t\u001b[31m.obsidian/\u001b[m\n",
      "\t\u001b[31mbuild_obsidian.ipynb\u001b[m\n",
      "\t\u001b[31mdb.json\u001b[m\n",
      "\t\u001b[31mobsidian_annotations/\u001b[m\n",
      "\n",
      "nothing added to commit but untracked files present (use \"git add\" to track)\n"
     ]
    }
   ],
   "source": [
    "!git status"
   ]
  },
  {
   "cell_type": "code",
   "execution_count": null,
   "id": "22283032-d8fa-4462-9a6a-c03cb7d5536b",
   "metadata": {},
   "outputs": [],
   "source": [
    "!git "
   ]
  }
 ],
 "metadata": {
  "kernelspec": {
   "display_name": "Python 3 (ipykernel)",
   "language": "python",
   "name": "python3"
  },
  "language_info": {
   "codemirror_mode": {
    "name": "ipython",
    "version": 3
   },
   "file_extension": ".py",
   "mimetype": "text/x-python",
   "name": "python",
   "nbconvert_exporter": "python",
   "pygments_lexer": "ipython3",
   "version": "3.9.6"
  }
 },
 "nbformat": 4,
 "nbformat_minor": 5
}
